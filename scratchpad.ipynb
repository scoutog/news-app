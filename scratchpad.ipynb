{
 "cells": [
  {
   "cell_type": "code",
   "execution_count": 1,
   "id": "0d3a3064",
   "metadata": {
    "scrolled": true
   },
   "outputs": [],
   "source": [
    "# !pip install openai, typing_extensions==4.10.0"
   ]
  },
  {
   "cell_type": "code",
   "execution_count": 2,
   "id": "192d760d",
   "metadata": {},
   "outputs": [],
   "source": [
    "import openai\n",
    "from openai import OpenAI\n",
    "from my_secrets import OPEN_AI_KEY, NEWS_API_KEY\n",
    "import requests\n",
    "from datetime import datetime, timedelta\n",
    "from tqdm import tqdm\n",
    "\n",
    "client = OpenAI(api_key=OPEN_AI_KEY,)"
   ]
  },
  {
   "cell_type": "code",
   "execution_count": 3,
   "id": "7e283753",
   "metadata": {},
   "outputs": [],
   "source": [
    "def get_topical_news_stories(topic):\n",
    "    \"\"\"\n",
    "    \"\"\"\n",
    "    from_date = (datetime.now() - timedelta(days=1)).strftime('%Y-%m-%d')\n",
    "\n",
    "    url = f'https://newsapi.org/v2/everything?q={topic}&from={from_date}&sortBy=relevancy&apiKey={NEWS_API_KEY}'\n",
    "\n",
    "    response = requests.get(url)\n",
    "    articles = response.json()['articles']\n",
    "    \n",
    "    return articles"
   ]
  },
  {
   "cell_type": "code",
   "execution_count": 4,
   "id": "f7c9aef0",
   "metadata": {},
   "outputs": [],
   "source": [
    "def get_top_news_stories():\n",
    "    \"\"\"\n",
    "    \"\"\"\n",
    "    from_date = (datetime.now() - timedelta(days=1)).strftime('%Y-%m-%d')\n",
    "\n",
    "#     url = f'https://newsapi.org/v2/everything?q={topic}&from={from_date}&sortBy=relevancy&apiKey={NEWS_API_KEY}'\n",
    "    url = f'https://newsapi.org/v2/top-headlines?country=us&from={from_date}&apiKey={NEWS_API_KEY}'\n",
    "\n",
    "    response = requests.get(url)\n",
    "    articles = response.json()['articles']\n",
    "    \n",
    "    return articles"
   ]
  },
  {
   "cell_type": "code",
   "execution_count": 5,
   "id": "7ff6d90e",
   "metadata": {},
   "outputs": [],
   "source": [
    "def generate_news_summaries(news_content):\n",
    "    \"\"\"\n",
    "    \"\"\"\n",
    "    if news_content == None:\n",
    "        output = \"EMPTY\"\n",
    "    \n",
    "    else:\n",
    "        completion = client.chat.completions.create(\n",
    "                  model=\"gpt-4o-mini-2024-07-18\",\n",
    "\n",
    "                  messages=[\n",
    "                    {\"role\": \"system\", \n",
    "                     \"content\": \"\"\"\"\"Summarize this news story. Try to keep it to 5-8 sentences.\"\"\"},\n",
    "\n",
    "                    {\"role\": \"user\", \n",
    "                     \"content\": news_content}\n",
    "                  ]\n",
    "                )\n",
    "\n",
    "        output = completion.choices[0].message.content\n",
    "\n",
    "#     # Calculate cost\n",
    "#     prompt_tokens = completion.usage.prompt_tokens\n",
    "#     completion_tokens = completion.usage.completion_tokens\n",
    "\n",
    "#     # Pricing per 1K tokens\n",
    "#     prompt_cost_per_token = 0.15 / 10**6\n",
    "#     completion_cost_per_token = 0.6 / 10**6\n",
    "\n",
    "#     # Total estimated cost\n",
    "#     estimated_cost = (prompt_tokens * prompt_cost_per_token) + (completion_tokens * completion_cost_per_token)\n",
    "    \n",
    "    return output"
   ]
  },
  {
   "cell_type": "code",
   "execution_count": 6,
   "id": "5bb63232",
   "metadata": {},
   "outputs": [
    {
     "name": "stderr",
     "output_type": "stream",
     "text": [
      "Summarizing articles: 100%|██████████| 8/8 [00:14<00:00,  1.79s/it]\n"
     ]
    }
   ],
   "source": [
    "# articles = get_topical_news_stories(\"Nike\")\n",
    "# articles = articles[0:5]\n",
    "\n",
    "articles = get_top_news_stories()\n",
    "articles = articles[0:8]\n",
    "\n",
    "for article in tqdm(articles, desc=\"Summarizing articles\"):\n",
    "    summary = generate_news_summaries(article['content'])\n",
    "    article['summary'] = summary"
   ]
  },
  {
   "cell_type": "code",
   "execution_count": 7,
   "id": "6d6f3355",
   "metadata": {},
   "outputs": [
    {
     "name": "stdout",
     "output_type": "stream",
     "text": [
      "EMPTY\n",
      "\n",
      "\n",
      "\n",
      "Donald Trump provided financial advice on social media, claiming it was an excellent time to buy stocks. His statement came amidst fluctuating stock market conditions, where indices were uncertain, oscillating between gains and losses. Following Trump's advice, a shift in market sentiment was anticipated, potentially influencing trading behavior. The news highlights the ripple effect that public figures can have on financial markets, illustrating how opinions from well-known individuals might sway investor confidence and decisions. Investors are advised to consider the context and underlying market trends despite celebrity endorsements.\n",
      "\n",
      "\n",
      "\n",
      "Activist Mahmoud Khalil was arrested by immigration authorities shortly after Secretary of State Marco Rubio sent a letter to the Department of Homeland Security. In the letter, Rubio accused Columbia University of harboring individuals who support terrorist organizations. Khalil's arrest raised concerns among his supporters, who argue that he is being targeted for his activism and political beliefs. The incident highlights ongoing tensions surrounding immigration policy and government surveillance of political activists. Civil rights advocates are expressing alarm over the implications for free speech and dissent in the current political climate. The situation continues to unfold as both supporters and critics weigh in on the broader ramifications of Khalil's arrest.\n",
      "\n",
      "\n",
      "\n",
      "President Donald Trump's nominee to manage a vast agency overseeing a quarter-billion acres of public land has withdrawn her nomination. This decision came after it was disclosed that she had previously criticized the agency she would have led. The withdrawal highlights the scrutiny nominees face regarding their past comments and positions, particularly in politically sensitive roles. The reaction to her nomination raised concerns about her suitability for overseeing public lands, which are significant for conservation, recreation, and resource management. As the administration seeks a replacement, the move reflects ongoing challenges in filling key government positions amid political controversies.\n",
      "\n",
      "\n",
      "\n",
      "Two American Airlines jets were involved in a minor collision on the ground at Ronald Reagan Washington National Airport, which is notable as it follows a recent deadly incident in the area just three months prior. The Federal Aviation Administration (FAA) is currently investigating the situation. Fortunately, there were no reported injuries from this latest incident. The collision highlights ongoing safety concerns in the aviation sector, particularly at busy airports like Reagan National. American Airlines has stated they are cooperating fully with the investigation.\n",
      "\n",
      "\n",
      "\n",
      "The Android 15 April security patch has begun rolling out to a wide range of Google Pixel devices, including the Pixel 6 series, Pixel 7 series, and newer models like the Pixel 8 series and Pixel Fold. This update follows a significant update from last month and aims to enhance device security. Compatible devices are receiving the patch to address vulnerabilities and improve overall system stability. Users of these devices are encouraged to ensure their systems are updated to benefit from the latest security features. The rollout is expected to reach all eligible devices in the coming days.\n",
      "\n",
      "\n",
      "\n",
      "The article, featured in CNBC's Inside Wealth newsletter by Robert Frank, focuses on insights and trends pertinent to high-net-worth investors and consumers. It aims to guide readers through the complexities of wealth management, providing them with valuable strategies and information. The newsletter covers various topics, from investment opportunities to consumer behaviors among the affluent. Readers are invited to subscribe to receive future editions and stay informed about the high-net-worth financial landscape.\n",
      "\n",
      "\n",
      "\n",
      "Concerns over potential tariffs have led to increased activity in the U.S. auto market, resulting in a rush of buyers seeking to take advantage of significant discounts offered by automakers. Many consumers are hurrying to make purchases before prices rise, spurred by anxiety over future costs. This surge in demand has created a unique scenario in the auto industry, as dealerships respond by providing substantial incentives to attract buyers. Despite the temporary boom, the long-term outlook remains uncertain due to fluctuating economic conditions and potential policy changes. Automakers are closely monitoring the situation as they navigate the evolving landscape of tariffs and consumer behavior.\n",
      "\n",
      "\n",
      "\n"
     ]
    }
   ],
   "source": [
    "for i in articles:\n",
    "    print(i['summary'])\n",
    "    print(\"\\n\\n\")"
   ]
  },
  {
   "cell_type": "code",
   "execution_count": 18,
   "id": "9ee5fb80",
   "metadata": {},
   "outputs": [
    {
     "data": {
      "text/plain": [
       "{'source': {'id': 'associated-press', 'name': 'Associated Press'},\n",
       " 'author': 'Bernard Condon',\n",
       " 'title': 'Trump offers ‘buy’ tip on social media hours before tariff pause that made stocks soar - AP News',\n",
       " 'description': 'President Donald Trump offered financial advice on Wednesday morning that ended up making a lot of money for any lucky investor who listened to him. He posted on his social media platform Truth Social that it was \"a great time to buy.” Less than four hours la…',\n",
       " 'url': 'https://apnews.com/article/trump-truth-social-djt-tesla-musk-tariffs-pause-fccfa6b06c8f1ec0cd7844641ca52669',\n",
       " 'urlToImage': 'https://dims.apnews.com/dims4/default/cc127f2/2147483647/strip/true/crop/8640x4860+0+450/resize/1440x810!/quality/90/?url=https%3A%2F%2Fassets.apnews.com%2F53%2F79%2Ff7c6b779fab86be161e65d95d5ed%2F1caca05b86a24b0bae6ab0c35fc7684d',\n",
       " 'publishedAt': '2025-04-10T20:14:00Z',\n",
       " 'content': 'NEW YORK (AP) When Donald Trump offered some financial advice Wednesday morning, stocks were wavering between gains and losses.\\r\\nBut that was about to change. \\r\\nTHIS IS A GREAT TIME TO BUY!!! DJT, he… [+3467 chars]',\n",
       " 'summary': \"Donald Trump provided financial advice on social media, claiming it was an excellent time to buy stocks. His statement came amidst fluctuating stock market conditions, where indices were uncertain, oscillating between gains and losses. Following Trump's advice, a shift in market sentiment was anticipated, potentially influencing trading behavior. The news highlights the ripple effect that public figures can have on financial markets, illustrating how opinions from well-known individuals might sway investor confidence and decisions. Investors are advised to consider the context and underlying market trends despite celebrity endorsements.\"}"
      ]
     },
     "execution_count": 18,
     "metadata": {},
     "output_type": "execute_result"
    }
   ],
   "source": [
    "articles[1]"
   ]
  },
  {
   "cell_type": "code",
   "execution_count": 9,
   "id": "50c9bd19",
   "metadata": {},
   "outputs": [
    {
     "data": {
      "text/plain": [
       "{'source': {'id': 'abc-news', 'name': 'ABC News'},\n",
       " 'author': 'ABC News',\n",
       " 'title': 'Helicopter crashes in Hudson River in New York City, 3 dead: Sources - ABC News',\n",
       " 'description': None,\n",
       " 'url': 'https://abcnews.go.com/US/helicopter-crashes-hudson-river-new-york-city/story?id\\\\\\\\u003d120691975',\n",
       " 'urlToImage': None,\n",
       " 'publishedAt': '2025-04-10T20:26:15Z',\n",
       " 'content': None,\n",
       " 'summary': 'EMPTY'}"
      ]
     },
     "execution_count": 9,
     "metadata": {},
     "output_type": "execute_result"
    }
   ],
   "source": [
    "for article in articles:\n",
    "    \n",
    "    if article['content'] == None:\n",
    "        pass\n",
    "    \n",
    "    else:\n",
    "        picture = article['urlToImage']\n",
    "        name = article['source']['name']\n",
    "        author = article['author']\n",
    "        url = article['url']\n",
    "        publish_date = article['publishedAt']\n",
    "        title = article['title']\n",
    "        formatted_date = datetime.strptime(publish_date, '%Y-%m-%dT%H:%M:%SZ').strftime('%m-%d-%Y')"
   ]
  }
 ],
 "metadata": {
  "kernelspec": {
   "display_name": "Python 3 (ipykernel)",
   "language": "python",
   "name": "python3"
  },
  "language_info": {
   "codemirror_mode": {
    "name": "ipython",
    "version": 3
   },
   "file_extension": ".py",
   "mimetype": "text/x-python",
   "name": "python",
   "nbconvert_exporter": "python",
   "pygments_lexer": "ipython3",
   "version": "3.9.12"
  }
 },
 "nbformat": 4,
 "nbformat_minor": 5
}
